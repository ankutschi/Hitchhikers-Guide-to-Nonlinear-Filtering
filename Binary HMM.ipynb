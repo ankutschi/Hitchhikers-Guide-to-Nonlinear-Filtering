{
 "cells": [
  {
   "cell_type": "code",
   "execution_count": 1,
   "metadata": {
    "collapsed": true
   },
   "outputs": [],
   "source": [
    "import numpy as np\n",
    "import matplotlib.pyplot as plt"
   ]
  },
  {
   "cell_type": "markdown",
   "metadata": {},
   "source": [
    "## Important definitions"
   ]
  },
  {
   "cell_type": "markdown",
   "metadata": {},
   "source": [
    "### Binary HMM model\n",
    "The model is fully determined by the following transition probabilities:\n",
    "$$ p(X_{t_n}=0|X_{t_n}=0) = \\alpha, \\ \\ \\ p(X_{t_n}=1|X_{t_n}=1) = \\beta .$$"
   ]
  },
  {
   "cell_type": "code",
   "execution_count": 92,
   "metadata": {},
   "outputs": [],
   "source": [
    "def HMM_step(x_0,alpha,beta):\n",
    "    # One HMM step in the binary model\n",
    "    \n",
    "    # transition matrix for states\n",
    "    P = np.array([[alpha, 1-alpha], [1-beta, beta]])\n",
    "    \n",
    "    if x_0 == 0:\n",
    "        x_1 = np.random.choice(np.array([0,1],dtype=int),replace=True,p=P[0])\n",
    "    elif x_0 == 1:\n",
    "        x_1 = np.random.choice(np.array([0,1],dtype=int),replace=True,p=P[1])\n",
    "        \n",
    "    return x_1"
   ]
  },
  {
   "cell_type": "code",
   "execution_count": 93,
   "metadata": {
    "collapsed": true
   },
   "outputs": [],
   "source": [
    "def HMM_emit(x,delta):\n",
    "    # one step emission (noisy channel, random bin flip)\n",
    "    # delta: error probability\n",
    "    \n",
    "    y = np.random.choice(np.array([x,1-x],dtype=int),replace=True,p=[1-delta,delta])\n",
    "    \n",
    "    return y"
   ]
  },
  {
   "cell_type": "code",
   "execution_count": 94,
   "metadata": {
    "collapsed": true
   },
   "outputs": [],
   "source": [
    "def HMM_filt(p_0,y,alpha,beta,delta):\n",
    "    \n",
    "    P_trans = np.array([[alpha, 1-beta], [1-alpha, beta]])\n",
    "    E_y = np.array([[1-delta,delta],[delta,1-delta]])\n",
    "    e_Y = E_y[y]\n",
    "    \n",
    "    normalization = np.dot(np.transpose(e_Y),np.dot(P_trans,p_0))\n",
    "    p_1 = np.dot(np.diag(e_Y),np.dot(P_trans,p_0))/normalization\n",
    "    \n",
    "    return p_1"
   ]
  },
  {
   "cell_type": "markdown",
   "metadata": {},
   "source": [
    "## Simulations"
   ]
  },
  {
   "cell_type": "markdown",
   "metadata": {},
   "source": [
    "Simulate a simple Markov chain:"
   ]
  },
  {
   "cell_type": "code",
   "execution_count": 376,
   "metadata": {},
   "outputs": [],
   "source": [
    "np.random.seed(4)\n",
    "\n",
    "alpha = 0.9\n",
    "beta = 0.9\n",
    "delta = 0.15\n",
    "T = 15\n",
    "X = np.zeros(T,dtype=int) # hidden state, starts at 0\n",
    "Y = np.zeros(T,dtype=int) # observable\n",
    "p_hat = np.zeros([T,2])\n",
    "Y[0] = HMM_emit(X[0],delta)\n",
    "p_hat[0] = np.array([1,0])\n",
    "for i in np.arange(1,T):\n",
    "    X[i] = HMM_step(X[i-1],alpha,beta)\n",
    "    Y[i] = HMM_emit(X[i],delta)\n",
    "    p_hat[i] = HMM_filt(p_hat[i-1],Y[i],alpha,beta,delta)"
   ]
  },
  {
   "cell_type": "code",
   "execution_count": 378,
   "metadata": {},
   "outputs": [
    {
     "data": {
      "image/png": "[encoded data removed]",
      "text/plain": [
       "<matplotlib.figure.Figure at 0x10c51a8d0>"
      ]
     },
     "metadata": {},
     "output_type": "display_data"
    }
   ],
   "source": [
    "data = np.array([X,Y,np.round(p_hat[:,1])],dtype=int)\n",
    "fig, ax = plt.subplots()\n",
    "im = ax.imshow(np.array([X,Y,p_hat[:,1]]),cmap='Oranges',aspect='auto')\n",
    "fig.set_size_inches(8, 6)\n",
    "for i in range(len(X)):\n",
    "    for j in range(3):\n",
    "        ax.text(i, j, data[j,i],\n",
    "                       ha=\"center\",  va=\"center\",color=\"0.1\",fontsize=25)\n",
    "ax.axis('off')\n",
    "plt.savefig('HMM_trajectory.pdf',bbox_inches='tight')\n",
    "plt.show()"
   ]
  },
  {
   "cell_type": "code",
   "execution_count": null,
   "metadata": {
    "collapsed": true
   },
   "outputs": [],
   "source": []
  }
 ],
 "metadata": {
  "kernelspec": {
   "display_name": "Python 3",
   "language": "python",
   "name": "python3"
  },
  "language_info": {
   "codemirror_mode": {
    "name": "ipython",
    "version": 3
   },
   "file_extension": ".py",
   "mimetype": "text/x-python",
   "name": "python",
   "nbconvert_exporter": "python",
   "pygments_lexer": "ipython3",
   "version": "3.7.3"
  }
 },
 "nbformat": 4,
 "nbformat_minor": 2
}
